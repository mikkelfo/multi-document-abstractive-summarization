{
 "cells": [
  {
   "cell_type": "markdown",
   "metadata": {},
   "source": [
    "# Create targets for WCEP\n",
    "sklearn does not work in the VM currently "
   ]
  },
  {
   "cell_type": "code",
   "execution_count": 105,
   "metadata": {},
   "outputs": [],
   "source": [
    "import json, gzip\n",
    "from sklearn.feature_extraction.text import TfidfVectorizer\n",
    "from sklearn.metrics.pairwise import cosine_similarity\n",
    "import torch\n",
    "\n",
    "\n",
    "def read_jsonl_gz(path):\n",
    "    with gzip.open(path) as f:\n",
    "        for l in f:\n",
    "            yield json.loads(l)\n",
    "\n",
    "vectorizer = TfidfVectorizer()\n",
    "data = list(read_jsonl_gz(f'../../data/raw/wcep/train.jsonl.gz'))\n",
    "\n",
    "targets = []\n",
    "for cluster in data:\n",
    "    articles = cluster['articles']\n",
    "    text = [a['text'] for a in articles][:8]\n",
    "    X = vectorizer.fit_transform(text)\n",
    "    targets.append(cosine_similarity(X).sum(1).argmax())"
   ]
  },
  {
   "cell_type": "code",
   "execution_count": 106,
   "metadata": {},
   "outputs": [],
   "source": [
    "torch.save(targets, '../../data/train_targets_8.pt')"
   ]
  }
 ],
 "metadata": {
  "interpreter": {
   "hash": "32380576835e39faf244e42e2407d9c11a0310471d132d51dd55c697e32382b7"
  },
  "kernelspec": {
   "display_name": "Python 3.9.7 ('raffle')",
   "language": "python",
   "name": "python3"
  },
  "language_info": {
   "codemirror_mode": {
    "name": "ipython",
    "version": 3
   },
   "file_extension": ".py",
   "mimetype": "text/x-python",
   "name": "python",
   "nbconvert_exporter": "python",
   "pygments_lexer": "ipython3",
   "version": "3.9.7"
  },
  "orig_nbformat": 4
 },
 "nbformat": 4,
 "nbformat_minor": 2
}
