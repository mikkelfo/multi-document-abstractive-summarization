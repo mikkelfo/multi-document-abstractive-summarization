{
 "cells": [
  {
   "cell_type": "markdown",
   "metadata": {},
   "source": [
    "# Create targets for WCEP\n",
    "sklearn does not work in the VM currently "
   ]
  },
  {
   "cell_type": "code",
   "execution_count": 105,
   "metadata": {},
   "outputs": [],
   "source": [
    "import json, gzip\n",
    "from sklearn.feature_extraction.text import TfidfVectorizer\n",
    "from sklearn.metrics.pairwise import cosine_similarity\n",
    "import torch\n",
    "\n",
    "\n",
    "def read_jsonl_gz(path):\n",
    "    with gzip.open(path) as f:\n",
    "        for l in f:\n",
    "            yield json.loads(l)\n",
    "\n",
    "vectorizer = TfidfVectorizer()\n",
    "data = list(read_jsonl_gz(f'../../data/raw/wcep/train.jsonl.gz'))\n",
    "\n",
    "targets = []\n",
    "for cluster in data:\n",
    "    articles = cluster['articles']\n",
    "    text = [a['text'] for a in articles][:8]\n",
    "    X = vectorizer.fit_transform(text)\n",
    "    targets.append(cosine_similarity(X).sum(1).argmax())"
   ]
  },
  {
   "cell_type": "code",
   "execution_count": 3,
   "metadata": {},
   "outputs": [],
   "source": [
    "import torch\n",
    "import os\n",
    "from sklearn.feature_extraction.text import TfidfVectorizer\n",
    "from sklearn.metrics.pairwise import cosine_similarity\n",
    "from transformers import ProphetNetTokenizer\n",
    "\n",
    "tokenizer = ProphetNetTokenizer.from_pretrained('microsoft/prophetnet-large-uncased')\n",
    "vectorizer = TfidfVectorizer()\n",
    "\n",
    "targets = []\n",
    "for i in range(len(os.listdir('../../data/processed/wcep/text/train'))):\n",
    "    chunk = torch.load(f'../../data/processed/wcep/text/train/chunk_{i}.pt', map_location=torch.device(\"cpu\"))\n",
    "    for cluster in chunk:\n",
    "        text = tokenizer.batch_decode(cluster.input_ids[:, :256])\n",
    "        X = vectorizer.fit_transform(text)\n",
    "        targets.append(cosine_similarity(X).sum(1).argmax())"
   ]
  },
  {
   "cell_type": "code",
   "execution_count": 6,
   "metadata": {},
   "outputs": [
    {
     "data": {
      "text/plain": [
       "(array([1588., 1294., 1144., 1031.,  868.,  806.,  756.,  670.]),\n",
       " array([0.   , 0.875, 1.75 , 2.625, 3.5  , 4.375, 5.25 , 6.125, 7.   ]),\n",
       " <BarContainer object of 8 artists>)"
      ]
     },
     "execution_count": 6,
     "metadata": {},
     "output_type": "execute_result"
    },
    {
     "data": {
      "image/png": "[encoded data removed]",
      "text/plain": [
       "<Figure size 432x288 with 1 Axes>"
      ]
     },
     "metadata": {
      "needs_background": "light"
     },
     "output_type": "display_data"
    }
   ],
   "source": [
    "import matplotlib.pyplot as plt\n",
    "\n",
    "plt.hist(targets, bins=8)"
   ]
  },
  {
   "cell_type": "code",
   "execution_count": 7,
   "metadata": {},
   "outputs": [],
   "source": [
    "torch.save(targets, '../../data/wcep_train_targets.pt')"
   ]
  },
  {
   "cell_type": "code",
   "execution_count": 8,
   "metadata": {},
   "outputs": [
    {
     "name": "stderr",
     "output_type": "stream",
     "text": [
      "C:\\Users\\mikk5\\anaconda3\\envs\\raffle\\lib\\site-packages\\transformers\\configuration_utils.py:353: UserWarning: Passing `gradient_checkpointing` to a config initialization is deprecated and will be removed in v5 Transformers. Using `model.gradient_checkpointing_enable()` instead, or if you are using the `Trainer` API, pass `gradient_checkpointing=True` in your `TrainingArguments`.\n",
      "  warnings.warn(\n"
     ]
    }
   ],
   "source": [
    "import torch\n",
    "import os\n",
    "from sklearn.feature_extraction.text import TfidfVectorizer\n",
    "from sklearn.metrics.pairwise import cosine_similarity\n",
    "from transformers import ProphetNetTokenizer\n",
    "\n",
    "tokenizer = ProphetNetTokenizer.from_pretrained('microsoft/prophetnet-large-uncased')\n",
    "vectorizer = TfidfVectorizer()\n",
    "\n",
    "targets = []\n",
    "for i in range(len(os.listdir('../../data/processed/wcep/text/validation'))):\n",
    "    chunk = torch.load(f'../../data/processed/wcep/text/validation/chunk_{i}.pt', map_location=torch.device(\"cpu\"))\n",
    "    for cluster in chunk:\n",
    "        text = tokenizer.batch_decode(cluster.input_ids[:, :256])\n",
    "        X = vectorizer.fit_transform(text)\n",
    "        targets.append(cosine_similarity(X).sum(1).argmax())"
   ]
  },
  {
   "cell_type": "code",
   "execution_count": 9,
   "metadata": {},
   "outputs": [
    {
     "data": {
      "text/plain": [
       "(array([217., 151., 148., 106., 104.,  85.,  98.,  76.]),\n",
       " array([0.   , 0.875, 1.75 , 2.625, 3.5  , 4.375, 5.25 , 6.125, 7.   ]),\n",
       " <BarContainer object of 8 artists>)"
      ]
     },
     "execution_count": 9,
     "metadata": {},
     "output_type": "execute_result"
    },
    {
     "data": {
      "image/png": "[encoded data removed]",
      "text/plain": [
       "<Figure size 432x288 with 1 Axes>"
      ]
     },
     "metadata": {
      "needs_background": "light"
     },
     "output_type": "display_data"
    }
   ],
   "source": [
    "import matplotlib.pyplot as plt\n",
    "\n",
    "plt.hist(targets, bins=8)"
   ]
  },
  {
   "cell_type": "code",
   "execution_count": 10,
   "metadata": {},
   "outputs": [],
   "source": [
    "torch.save(targets, '../../data/wcep_validation_targets.pt')"
   ]
  }
 ],
 "metadata": {
  "interpreter": {
   "hash": "32380576835e39faf244e42e2407d9c11a0310471d132d51dd55c697e32382b7"
  },
  "kernelspec": {
   "display_name": "Python 3.9.7 ('raffle')",
   "language": "python",
   "name": "python3"
  },
  "language_info": {
   "codemirror_mode": {
    "name": "ipython",
    "version": 3
   },
   "file_extension": ".py",
   "mimetype": "text/x-python",
   "name": "python",
   "nbconvert_exporter": "python",
   "pygments_lexer": "ipython3",
   "version": "3.9.7"
  },
  "orig_nbformat": 4
 },
 "nbformat": 4,
 "nbformat_minor": 2
}
