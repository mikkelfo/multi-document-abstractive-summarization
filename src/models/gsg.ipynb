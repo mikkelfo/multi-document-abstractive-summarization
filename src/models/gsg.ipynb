{
 "cells": [
  {
   "cell_type": "code",
   "execution_count": 1,
   "metadata": {},
   "outputs": [
    {
     "name": "stderr",
     "output_type": "stream",
     "text": [
      "[nltk_data] Downloading package punkt to\n",
      "[nltk_data]     C:\\Users\\mikk5\\AppData\\Roaming\\nltk_data...\n",
      "[nltk_data]   Package punkt is already up-to-date!\n"
     ]
    }
   ],
   "source": [
    "import nltk\n",
    "nltk.download('punkt')\n",
    "import math\n",
    "from rouge import Rouge"
   ]
  },
  {
   "cell_type": "code",
   "execution_count": 2,
   "metadata": {},
   "outputs": [],
   "source": [
    "from utils import read_jsonl_gz\n",
    "data = list(read_jsonl_gz('../../data/raw/wcep/test.jsonl.gz'))"
   ]
  },
  {
   "cell_type": "code",
   "execution_count": 3,
   "metadata": {},
   "outputs": [],
   "source": [
    "cluster = data[0]['articles']\n",
    "article = cluster[0]['text']"
   ]
  },
  {
   "cell_type": "code",
   "execution_count": 8,
   "metadata": {},
   "outputs": [
    {
     "name": "stdout",
     "output_type": "stream",
     "text": [
      "At least nine people were killed and 25 others injured after a powerful blast outside Pakistan’s famous Sufi shrine Data Darbar in Lahore. According to the BBC, the shrine was originally established as a simple grave next to the mosque which Hujwiri had built on the outskirts of Lahore in the 11th century. He is said to have lived on the site in the 11th century and was reputed to have miraculous powers.\n",
      "\n",
      "Sufi worshippers, who follow a mystical strain of Islam, have frequently been the target of bloody attacks in Pakistan by Islamist militants -- including the Islamic State group -- who consider Sufi beliefs and rituals at the graves of Muslim saints as heresy. A blast at one of Pakistan's oldest and most popular Sufi shrines killed at least four people and wounded 24 in the eastern city of Lahore Wednesday, police said, as the country marks the fasting month of Ramadan. The shrine has been targeted previously -- a 2010 suicide attack there killed more than 40 people -- and is guarded by heavy security.\n",
      "\n",
      "Lahore police chief Ghazanfar Ali said the bombing appeared to target police officers outside the shrine, known as Data Darbar, where Sufi saint Ali Hajveri is buried. Raja Basharat, a senior provincial minister in the Punjab government, said police were still trying to determine the nature of attack, which might have been a suicide bombing.\n"
     ]
    }
   ],
   "source": [
    "# GSR = Gap Sentence Ratio, m = number of sentences\n",
    "def gsg(text, gsr=0.15, m=None):\n",
    "    sentences = nltk.sent_tokenize(text)\n",
    "    if m is None:\n",
    "        m = math.ceil(len(sentences) * gsr)\n",
    "    rouge = Rouge()\n",
    "    scores = []\n",
    "    for i in range(len(sentences)):\n",
    "        doc = ' '.join(sentences[:i]) + ' '.join(sentences[i+1:])\n",
    "        score = rouge.get_scores(sentences[i], doc)[0]['rouge-1']['f']\n",
    "        scores.append((i, score))\n",
    "    s = sorted(scores, key=lambda k: k[1], reverse=True)\n",
    "    indices, scores = zip(*s)\n",
    "    summary = ' '.join([sentences[i] for i in indices[:m]])\n",
    "    return summary\n",
    "print(gsg(article))\n",
    "print()\n",
    "print(gsg(cluster[1]['text']))\n",
    "print()\n",
    "print(gsg(cluster[2]['text']))"
   ]
  },
  {
   "cell_type": "code",
   "execution_count": 70,
   "metadata": {},
   "outputs": [
    {
     "data": {
      "text/plain": [
       "'Reporting by Mubasher Bukhari and Syed Raza Khan; dditing by Stephen Coates and Robert Birsel LAHORE, Pakistan (AP) — A powerful bomb exploded near security forces guarding a famous Sufi shrine in the eastern city of Lahore on Wednesday, killing at least four people and wounding 20 others, police said. • Kilimanjaro cable car would take tourists to 19,341-foot summit\\n• Russian jet burns on runway, killing at least 13\\n• Anti-apartheid legacy gives upper hand to ANC in election “People should remain aware of their surroundings when going to pray,” said Punjab provincial minister Mian Aslam. • Kilimanjaro cable car would take tourists to 19,341-foot summit\\n• Russian jet burns on runway, killing at least 13\\n• Anti-apartheid legacy gives upper hand to ANC in election “People should remain aware of their surroundings when going to pray,” said Punjab provincial minister Mian Aslam. More to come At least ten people, including five elite force personnel, a security guard and four civilians, were martyred and 25 others sustained critical injuries in an suicide attack targeting vehicles of police elite force near the entrance gate for women visitors to the 11th-century Data Darbar here on Wednesday morning.'"
      ]
     },
     "execution_count": 70,
     "metadata": {},
     "output_type": "execute_result"
    }
   ],
   "source": [
    "def find_m(docs, gsr=0.3):\n",
    "    ms = [len(nltk.sent_tokenize(doc))*gsr for doc in docs]\n",
    "    return sum(ms) / len(ms)\n",
    "\n",
    "def gsg_multi(docs, gsr=0.3):\n",
    "    m = math.ceil(find_m(docs, gsr))\n",
    "    concat_docs = ' '.join(docs)\n",
    "    return gsg(concat_docs, m=m)\n",
    "docs = [x['text'] for x in cluster[:16]]\n",
    "gsg_multi(docs)"
   ]
  }
 ],
 "metadata": {
  "interpreter": {
   "hash": "32380576835e39faf244e42e2407d9c11a0310471d132d51dd55c697e32382b7"
  },
  "kernelspec": {
   "display_name": "Python 3.9.7 ('raffle')",
   "language": "python",
   "name": "python3"
  },
  "language_info": {
   "codemirror_mode": {
    "name": "ipython",
    "version": 3
   },
   "file_extension": ".py",
   "mimetype": "text/x-python",
   "name": "python",
   "nbconvert_exporter": "python",
   "pygments_lexer": "ipython3",
   "version": "3.9.7"
  },
  "orig_nbformat": 4
 },
 "nbformat": 4,
 "nbformat_minor": 2
}
